{
 "cells": [
  {
   "cell_type": "code",
   "execution_count": 40,
   "metadata": {},
   "outputs": [
    {
     "name": "stdout",
     "output_type": "stream",
     "text": [
      "confidence level 0.7 -- 104.0\n",
      "confidence level 0.75 -- 128.0\n",
      "confidence level 0.8 -- 158.0\n",
      "confidence level 0.85 -- 199.0\n",
      "confidence level 0.9 -- 260.0\n",
      "confidence level 0.95 -- 369.0\n"
     ]
    }
   ],
   "source": [
    "import scipy.stats as st\n",
    "import numpy as np\n",
    "\n",
    "def cochranSS(confidence, win_rate, margin_of_error=.05):\n",
    "    '''\n",
    "    Calculate Cochran Sample Size of Statistical Significance\n",
    "    n = Z**2 * p * q // e**2\n",
    "    Z: ZScore of confidence level, percentile\n",
    "    p: Any currently known constant of sample\n",
    "    q: 1-p\n",
    "    e: margin of errror\n",
    "    '''\n",
    "    z = st.norm.ppf(1-(1-confidence)/2) #Confirm == ~ 1.96\n",
    "    assert round(st.norm.ppf(1-(1-.95)/2),2) == 1.96\n",
    "    num = (z**2) * (win_rate) * (1 - win_rate)\n",
    "    den = margin_of_error ** 2\n",
    "    return np.ceil(num / den)\n",
    "\n",
    "\n",
    "cochranSS(.85, .6)\n",
    "\n",
    "for i in np.linspace(.7, .95, 6):\n",
    "    print(f'confidence level {round(i,2)} -- {cochranSS(i,.6)}')\n",
    "    \n",
    "def getConfidenceRange(beg, end, step, win_rate = .6):\n",
    "    n_steps = ((end - beg) / step) + 1\n",
    "    conf_lvls = {}\n",
    "    for c in np.linspace(beg, end, int(n_steps)):\n",
    "        conf_lvls[round(c,2)] = cochranSS(c, win_rate)\n",
    "    return conf_lvls\n",
    "        \n",
    "\n",
    "'''Mini Test...'''\n",
    "conf = getConfidenceRange(.7,1,.05)\n",
    "assert conf[.95] == cochranSS(.95, .6), 'check your getConfidenceRange function'"
   ]
  },
  {
   "cell_type": "code",
   "execution_count": 5,
   "metadata": {},
   "outputs": [
    {
     "name": "stdout",
     "output_type": "stream",
     "text": [
      "confidence level 0.5 -- 44.0\n",
      "confidence level 0.55 -- 55.0\n",
      "confidence level 0.6 -- 68.0\n",
      "confidence level 0.65 -- 84.0\n",
      "confidence level 0.7 -- 104.0\n",
      "confidence level 0.75 -- 128.0\n"
     ]
    }
   ],
   "source": [
    "loop = [print(f'confidence level {round(conf,2)} -- {cochranSS(conf,.6)}') for conf in np.linspace(.5,.75, 6)]"
   ]
  },
  {
   "cell_type": "code",
   "execution_count": 42,
   "metadata": {},
   "outputs": [
    {
     "name": "stdout",
     "output_type": "stream",
     "text": [
      "104.0 104.0\n",
      "128.0 128.0\n",
      "158.0 158.0\n",
      "199.0 199.0\n",
      "260.0 260.0\n",
      "369.0 369.0\n",
      "Success.\n"
     ]
    }
   ],
   "source": [
    "'''Test driven development'''\n",
    "\n",
    "\n",
    "def testConfidenceRangeandCSS(beg=.7, end=.95, step=.05, win_rate=.6):\n",
    "    c = getConfidenceRange(beg, end, step, win_rate)\n",
    "    for conf, value in c.items():\n",
    "        print(value, cochranSS(conf, win_rate))\n",
    "        assert value == cochranSS(conf,win_rate), 'Error!'\n",
    "    print('Success.')\n",
    "        \n",
    "    \n",
    "testConfidenceRangeandCSS()"
   ]
  },
  {
   "cell_type": "code",
   "execution_count": 57,
   "metadata": {},
   "outputs": [
    {
     "name": "stdout",
     "output_type": "stream",
     "text": [
      "Stopped -- Margin Met GC\n",
      "$ Used -- 31.48\n",
      "Remaining Account -- 8.099999999999998\n",
      "Final Symbols -- ['NG', 'EC', 'JY', 'SF', 'KC', 'RTY', 'CL']\n"
     ]
    },
    {
     "data": {
      "text/plain": [
       "['NG', 'EC', 'JY', 'SF', 'KC', 'RTY', 'CL']"
      ]
     },
     "execution_count": 57,
     "metadata": {},
     "output_type": "execute_result"
    }
   ],
   "source": [
    "FUTs = {'NQ':16.5, 'ES':13.2,'GC':9,'RTY':6.38,'CL':7.5,'KC':4.5, 'SF':4.4,'JY':4, 'EC':2.5,'NG':2.2}\n",
    "\n",
    "#futs = [('NQ',16.5),('ES',13.2),('GC',9),('RTY',6.38),('CL', 7.5),('KC,4.5'),('SF',4.4),('JY',4),('EC',2.5),('NG',2.2)]\n",
    "\n",
    "f_srt = sorted(list(FUTs.items()), key=lambda x: x[1])\n",
    "\n",
    "acct_bal = 39.580\n",
    "init = acct_bal\n",
    "finals = []\n",
    "for sym, val in sorted(list(FUTs.items()), key=lambda x: x[1]):\n",
    "    if acct_bal - val > 0:\n",
    "        acct_bal -= val\n",
    "        finals.append(sym)\n",
    "    else:\n",
    "        print('Stopped -- Margin Met',sym)\n",
    "        break\n",
    "print(f'$ Used -- {init - acct_bal}')\n",
    "print(f'Remaining Account -- {acct_bal}')\n",
    "print(f'Final Symbols -- {finals}')\n",
    "    \n",
    "finals  "
   ]
  },
  {
   "cell_type": "code",
   "execution_count": 116,
   "metadata": {},
   "outputs": [
    {
     "name": "stdout",
     "output_type": "stream",
     "text": [
      "$ Used -- 33.28\n",
      "$ Not Utilized -- 5.7200000000000015\n",
      "Margin Cushion -- 5.7200000000000015\n",
      "Final Symbols -- ['ES', 'GC', 'RTY', 'EC', 'NG']\n"
     ]
    },
    {
     "data": {
      "text/plain": [
       "['ES', 'GC', 'RTY', 'EC', 'NG']"
      ]
     },
     "execution_count": 116,
     "metadata": {},
     "output_type": "execute_result"
    }
   ],
   "source": [
    "\n",
    "def getInitMargin(margin_dict, init_acct, cushion=.10, asc=False, skip=0, sym_skip=[]):\n",
    "    balance = init_acct\n",
    "    min_bal = init_acct * cushion if cushion > 0 else 0\n",
    "    final = []\n",
    "    for sym, val in sorted(list(margin_dict.items()), key=lambda x: x[1], reverse=asc)[skip:]:\n",
    "        if sym in sym_skip:\n",
    "            continue\n",
    "        if balance - val > min_bal:\n",
    "            balance -= val\n",
    "            final.append(sym)\n",
    "        else:\n",
    "            print(f'Min Margin met -- {sym}')\n",
    "            break\n",
    "    print(f'$ Used -- {init_acct - balance}')\n",
    "    print(f'$ Not Utilized -- {balance - min_bal}')\n",
    "    print(f'Margin Cushion -- {balance}')\n",
    "    print(f'Final Symbols -- {final}')\n",
    "    return final\n",
    "\n",
    "FUTs = {'NQ':16.5, 'ES':13.2,'GC':9,'RTY':6.38,'CL':7.5,'KC':4.5, 'SF':4.4,'JY':4, 'EC':2.5,'NG':2.2}\n",
    "getInitMargin(FUTs,39,0,True,0,['NQ','SF','CL','JY','KC']) #'GC','NG',"
   ]
  },
  {
   "cell_type": "code",
   "execution_count": 125,
   "metadata": {},
   "outputs": [
    {
     "name": "stdout",
     "output_type": "stream",
     "text": [
      "$ Used -- 32.53\n",
      "$ Not Utilized (excess cushion) -- 6.4700000000000015\n",
      "Margin Cushion -- 6.4700000000000015\n",
      "Final Symbols -- ['ES', 'RTY', 'EC', 'NG']\n"
     ]
    },
    {
     "data": {
      "text/plain": [
       "(['ES', 'RTY', 'EC', 'NG'], ['NQ'])"
      ]
     },
     "execution_count": 125,
     "metadata": {},
     "output_type": "execute_result"
    }
   ],
   "source": [
    "def getInitMargin_ID(margin_dict, init_acct, cushion=.10, asc=False, skip=0, sym_skip=[], ID_only=[]):\n",
    "    balance = init_acct\n",
    "    min_bal = init_acct * cushion if cushion > 0 else 0\n",
    "    final = []\n",
    "    ID = [] #Intraday only\n",
    "    for sym, val in sorted(list(margin_dict.items()), key=lambda x: x[1], reverse=asc)[skip:]:\n",
    "        if sym in sym_skip:\n",
    "            continue\n",
    "        if balance - val > min_bal:\n",
    "            if sym in ID_only:\n",
    "                balance -= val * .5\n",
    "                #final.append(sym)\n",
    "                ID.append(sym)\n",
    "            else:\n",
    "                balance -= val\n",
    "                final.append(sym)\n",
    "        else:\n",
    "            print(f'Min Margin met -- {sym}')\n",
    "            break\n",
    "    print(f'$ Used  -- {init_acct - balance}')\n",
    "    print(f'$ Not Utilized -- {balance - min_bal}') #Excess Cushion\n",
    "    print(f'Margin Cushion -- {balance}')\n",
    "    print(f'Final Symbols -- {final}')\n",
    "    return final, ID\n",
    "\n",
    "FUTs = {'NQ':16.5, 'ES':13.2,'GC':9,'RTY':6.38,'CL':7.5,'KC':4.5, 'SF':4.4,'JY':4, 'EC':2.5,'NG':2.2}\n",
    "getInitMargin_ID(FUTs, 39, 0, True, sym_skip = ['SF','JY','KC','CL','GC'], ID_only=['NQ'])"
   ]
  },
  {
   "cell_type": "code",
   "execution_count": 106,
   "metadata": {},
   "outputs": [
    {
     "name": "stdout",
     "output_type": "stream",
     "text": [
      "ES 13.2\n",
      "GC 9\n",
      "RTY 6.38\n",
      "KC 4.5\n",
      "SF 4.4\n",
      "JY 4\n",
      "EC 2.5\n",
      "NG 2.2\n"
     ]
    }
   ],
   "source": [
    "init = 39\n",
    "total = 0\n",
    "for sym, val in FUTs.items():\n",
    "    if sym not in ['NQ','CL']:\n",
    "        print(sym, val)\n",
    "        init -= val\n",
    "        if init <= min"
   ]
  },
  {
   "cell_type": "code",
   "execution_count": 270,
   "metadata": {},
   "outputs": [],
   "source": [
    "class InitialMarginOptimizer:\n",
    "    \n",
    "    '''TRY CHANGING TO SELF._FUTS (private) -- Consider adding cushion ?'''\n",
    "    def __init__(self,initial_balance_thousands, futures_dict=None):\n",
    "        self.init_bal = initial_balance_thousands\n",
    "        if futures_dict is None:\n",
    "            self.FUTs = {'NQ':16.5, 'ES':13.2,'GC':9,'RTY':6.38,'CL':7.5,'KC':4.5, 'SF':4.4,'JY':4, 'EC':2.5,'NG':2.2}\n",
    "        else:\n",
    "            self.FUTs = futures_dict\n",
    "        #self.futures_dict = 0\n",
    "        self.final = []\n",
    "        self.intraday = []\n",
    "        print(f'Initial Margin Optimizer Initialized -- Initial Balance -- {self.init_bal} \\nFutures Dict -- {self.FUTs}')         \n",
    "    \n",
    "    @property      \n",
    "    def futures_dict(self):\n",
    "        return self.FUTs\n",
    "    \n",
    "    @futures_dict.setter\n",
    "    def futures_dict(self,new):\n",
    "        assert isinstance(new, tuple) or isinstance(new, dict)\n",
    "        if isinstance(new, tuple) and len(new) == 2:\n",
    "            self.FUTs[new[0]] = new[1]\n",
    "        else:\n",
    "            self.FUTs = new\n",
    "        #tmp = sorted(self.FUTs.items(), key=lambda x: x[1], reverse=True)\n",
    "        tmp = {}\n",
    "        #Alot of effort -- maybe easier to use list of tuples?\n",
    "        self.FUTs = {k:v for k,v in sorted(self.FUTs.items(), key=lambda x: x[1], reverse=True)}\n",
    "        \n",
    "            \n",
    "    @property\n",
    "    def initial_balance(self):\n",
    "        return self.init_bal\n",
    "    \n",
    "    @initial_balance.setter\n",
    "    def initial_balance(self, new_bal):\n",
    "        if new_bal < 0:\n",
    "            raise ValueError(\"inital balance < 0 is not possible.\")\n",
    "        self.init_bal = new_bal\n",
    "    \n",
    "        \n",
    "    def Optimize(self, sym_skip = [], intraday_only = [], cushion = .1, asc = False, idx_skip = 0):\n",
    "        balance = self.init_bal\n",
    "        min_bal = self.init_bal * cushion if cushion > 0 else 0\n",
    "        final, ID = [], []\n",
    "        for sym, val in sorted(list(self.FUTs.items()), key=lambda x: x[1], reverse=asc)[idx_skip:]:\n",
    "            if sym in sym_skip:\n",
    "                continue\n",
    "            if sym in intraday_only: #Intraday Margin -- 50% Discount\n",
    "                print(sym, val)\n",
    "                val *= .5\n",
    "                print(sym, val)\n",
    "            if balance - val > min_bal:\n",
    "                if sym in intraday_only:\n",
    "                    print(sym, val)\n",
    "                    balance -= val\n",
    "                    ID.append(sym)\n",
    "                else:\n",
    "                    balance -= val\n",
    "                    final.append(sym)\n",
    "            else:\n",
    "                print(f'min margin met... {balance}')\n",
    "                break\n",
    "\n",
    "        print(f'$ Used  -- {self.init_bal - balance}')\n",
    "        if balance - min_bal != balance:\n",
    "            print(f'$ Excess Cushion -- {balance - min_bal}') #Excess Cushion\n",
    "        print(f'$ Total Cushion -- {balance}')\n",
    "        print(f'Final Symbols -- {final}')\n",
    "        \n",
    "        self.intraday = ID\n",
    "        self.final = final\n",
    "        return self.final, self.intraday\n",
    "                \n",
    "        \n"
   ]
  },
  {
   "cell_type": "code",
   "execution_count": 283,
   "metadata": {},
   "outputs": [
    {
     "name": "stdout",
     "output_type": "stream",
     "text": [
      "Initial Margin Optimizer Initialized -- Initial Balance -- 39 \n",
      "Futures Dict -- {'NQ': 16.5, 'ES': 13.2, 'GC': 9, 'RTY': 6.38, 'CL': 7.5, 'KC': 4.5, 'SF': 4.4, 'JY': 4, 'EC': 2.5, 'NG': 2.2}\n",
      "Initial Margin Optimizer Initialized -- Initial Balance -- 40 \n",
      "Futures Dict -- {'NQ': 16.5, 'ES': 13.2, 'GC': 9, 'RTY': 6.38, 'CL': 7.5, 'KC': 4.5, 'SF': 4.4, 'JY': 4, 'EC': 2.5, 'NG': 2.2}\n",
      "{'NQ': 18} == {'NQ': 18}\n",
      "Initial Margin Optimizer Initialized -- Initial Balance -- 40 \n",
      "Futures Dict -- {'NQ': 16.5, 'ES': 13.2, 'GC': 9, 'RTY': 6.38, 'CL': 7.5, 'KC': 4.5, 'SF': 4.4, 'JY': 4, 'EC': 2.5, 'NG': 2.2}\n",
      "Bingo ! Value error caught --  inital balance < 0 is not possible.\n",
      "Initial Margin Optimizer Initialized -- Initial Balance -- 40 \n",
      "Futures Dict -- {'NQ': 16.5, 'ES': 13.2, 'GC': 9, 'RTY': 6.38, 'CL': 7.5, 'KC': 4.5, 'SF': 4.4, 'JY': 4, 'EC': 2.5, 'NG': 2.2}\n",
      "{'NQ': 16.5, 'ES': 13.2, 'GC': 9, 'RTY': 6.38, 'CL': 7.5, 'KC': 4.5, 'SF': 4.4, 'JY': 4, 'EC': 2.5, 'NG': 2.2} {'NQ': 16.5, 'ES': 13.2, 'GC': 9, 'RTY': 6.38, 'CL': 7.5, 'KC': 4.5, 'SF': 4.4, 'JY': 4, 'EC': 2.5, 'NG': 2.2}\n",
      "NQ 16.5\n",
      "NQ 8.25\n",
      "NQ 8.25\n",
      "min margin met... 9.55\n",
      "$ Used  -- 30.45\n",
      "$ Excess Cushion -- 5.550000000000001\n",
      "$ Total Cushion -- 9.55\n",
      "Final Symbols -- ['ES', 'GC']\n",
      "['ES', 'GC'] == ['ES', 'GC']\n",
      "min margin met... 7.219999999999999\n",
      "$ Used  -- 32.78\n",
      "$ Total Cushion -- 7.219999999999999\n",
      "Final Symbols -- ['NG', 'EC', 'JY', 'KC', 'RTY', 'ES']\n",
      "['NG', 'EC', 'JY', 'KC', 'RTY', 'ES'] == ['NG', 'EC', 'JY', 'KC', 'RTY', 'ES']\n"
     ]
    }
   ],
   "source": [
    "#Testing ...\n",
    "import pytest\n",
    "\n",
    "\n",
    "imo = InitialMarginOptimizer(39)\n",
    "\n",
    "\n",
    "def test_dict_replace_and_add(new_dict, new_pair):\n",
    "    #Initialize...\n",
    "    imo = InitialMarginOptimizer(40)\n",
    "    imo.futures_dict = {'NQ':20}\n",
    "    \n",
    "    #Test replace...\n",
    "    imo.futures_dict = new_dict\n",
    "    assert imo.futures_dict == pytest.approx(new_dict) , 'Replace -- Tuple Arg -- not working.'\n",
    "    print(imo.futures_dict,'==',new_dict)\n",
    "\n",
    "    #Test 'Append'\n",
    "    imo.futures_dict = new_pair\n",
    "\n",
    "    assert list(imo.futures_dict.keys())[1] == new_pair[0]\n",
    "    assert len(imo.futures_dict) == 2\n",
    "    \n",
    "    #Test sort...\n",
    "    a = sorted(imo.futures_dict.items(),key=lambda x: x[1], reverse=True)\n",
    "    b = list(imo.futures_dict.items())\n",
    "    assert a == b , 'Dict not sorting...'\n",
    "\n",
    "    \n",
    "    \n",
    "\n",
    "\n",
    "def test_init_margin_property(new_value):\n",
    "    imo = InitialMarginOptimizer(40)\n",
    "    beg = imo.initial_balance\n",
    "    #Test get / set\n",
    "    imo.initial_balance = 0\n",
    "    assert imo.initial_balance == 0\n",
    "    \n",
    "    #Test Exception / Error handling\n",
    "    #import mymod #-- Not installed? \n",
    "    #self.assertRaises(ExpectedException, afunction, arg1, arg2)\n",
    "    try:\n",
    "        imo.initial_balance = -50\n",
    "    except ValueError as e:\n",
    "        print('Bingo ! Value error caught -- ',e)\n",
    "        \n",
    "    #Test revert back to normal, and both public and private methods work.\n",
    "    imo.initial_balance = beg\n",
    "    assert imo.initial_balance == beg\n",
    "    assert imo.init_bal == beg\n",
    "    \n",
    "    \n",
    "    \n",
    "def test_optimize():\n",
    "    imo = InitialMarginOptimizer(40)\n",
    "    print(imo.futures_dict, imo.FUTs)\n",
    "    assert len(imo.futures_dict) == 10\n",
    "    \n",
    "    #Test Optimize Function -- Descending + Intraday symbols\n",
    "    f, ido = imo.Optimize(['KC','CL'],['NQ'],cushion = 0.1, asc = True)\n",
    "    print(f,'==',['ES','GC'])\n",
    "    assert f == ['ES','GC'], 'Optimize Desc Works -- Final Non-ID'\n",
    "    assert ido == ['NQ'], 'Optimize Desk + ID Works'\n",
    "\n",
    "    #Test Optimize Function -- Ascending without Intraday\n",
    "    f, ido = imo.Optimize(['CL','GC','SF'],cushion = 0, asc = False)\n",
    "\n",
    "    print(f,'==',['NG', 'EC', 'JY', 'KC', 'RTY', 'ES'])\n",
    "    assert f == ['NG', 'EC', 'JY', 'KC', 'RTY', 'ES'], 'Optimize Asc works...'\n",
    "    assert ido == []\n",
    "    \n",
    "    #Test \n",
    "    \n",
    "    \n",
    "\n",
    "    \n",
    "#Testing Functions...\n",
    "\n",
    "\n",
    "test_dict_replace_and_add({'NQ':18},('RB',9))\n",
    "test_init_margin_property(20)\n",
    "test_optimize()\n"
   ]
  },
  {
   "cell_type": "code",
   "execution_count": 271,
   "metadata": {},
   "outputs": [
    {
     "name": "stdout",
     "output_type": "stream",
     "text": [
      "Initial Margin Optimizer Initialized -- Initial Balance -- 39 \n",
      "Futures Dict -- {'NQ': 16.5, 'ES': 13.2, 'GC': 9, 'CL': 7.5, 'RTY': 6.38, 'KC': 4.5, 'SF': 4.4, 'JY': 4, 'EC': 2.5, 'NG': 2.2}\n"
     ]
    }
   ],
   "source": [
    "#imo.Optimize(39,FUTs)\n",
    "imo = InitialMarginOptimizer(39,FUTs)\n",
    "\n",
    "#imo.Optimize(sym_skip = ['KC','CL'],intraday_only=['NQ']) #sym_skip = [], intraday_only = [],\n",
    "\n"
   ]
  },
  {
   "cell_type": "code",
   "execution_count": 275,
   "metadata": {},
   "outputs": [
    {
     "name": "stdout",
     "output_type": "stream",
     "text": [
      "NQ 16.5\n",
      "NQ 8.25\n",
      "NQ 8.25\n",
      "min margin met... 8.55\n",
      "$ Used  -- 30.45\n",
      "$ Excess Cushion -- 4.65\n",
      "$ Total Cushion -- 8.55\n",
      "Final Symbols -- ['ES', 'GC']\n",
      "min margin met... 6.219999999999999\n",
      "$ Used  -- 32.78\n",
      "$ Total Cushion -- 6.219999999999999\n",
      "Final Symbols -- ['NG', 'EC', 'JY', 'KC', 'RTY', 'ES']\n"
     ]
    },
    {
     "data": {
      "text/plain": [
       "(['NG', 'EC', 'JY', 'KC', 'RTY', 'ES'], [])"
      ]
     },
     "execution_count": 275,
     "metadata": {},
     "output_type": "execute_result"
    }
   ],
   "source": [
    "imo.Optimize(['KC','CL'],['NQ'],cushion = 0.1, asc = True)\n",
    "imo.Optimize(['CL','GC','SF'],cushion = 0, asc = False)"
   ]
  },
  {
   "cell_type": "code",
   "execution_count": 264,
   "metadata": {},
   "outputs": [
    {
     "name": "stdout",
     "output_type": "stream",
     "text": [
      "8.25\n",
      "Min Margin met -- RTY\n",
      "$ Used  -- 30.45\n",
      "$ Excess Cushion -- 4.65\n",
      "$ Total Cushion -- 8.55\n",
      "Final Symbols -- ['ES', 'GC']\n"
     ]
    },
    {
     "data": {
      "text/plain": [
       "(['ES', 'GC'], ['NQ'])"
      ]
     },
     "execution_count": 264,
     "metadata": {},
     "output_type": "execute_result"
    }
   ],
   "source": [
    "def getInitMargin_ID(margin_dict, init_acct, cushion=.10, asc=False, skip=0, sym_skip=[], ID_only=[]):\n",
    "    balance = init_acct\n",
    "    min_bal = init_acct * cushion if cushion > 0 else 0\n",
    "    final = []\n",
    "    ID = [] #Intraday only\n",
    "    for sym, val in sorted(list(margin_dict.items()), key=lambda x: x[1], reverse=asc)[skip:]:\n",
    "        if sym in sym_skip:\n",
    "            continue\n",
    "            \n",
    "        #Discount margin for intraday only\n",
    "        if sym in ID_only: val *= .5\n",
    "            \n",
    "        #Check if we have $ for it...\n",
    "        if balance - val > min_bal:\n",
    "            if sym in ID_only:\n",
    "                print(val)\n",
    "                ID.append(sym)\n",
    "            else:\n",
    "\n",
    "                final.append(sym)\n",
    "            balance -= val\n",
    "        else:\n",
    "            print(f'Min Margin met -- {sym}')\n",
    "            break\n",
    "    print(f'$ Used  -- {init_acct - balance}')\n",
    "    print(f'$ Excess Cushion -- {balance - min_bal}') #Excess Cushion -- Beyond our stated cushion.\n",
    "    print(f'$ Total Cushion -- {balance}')\n",
    "    print(f'Final Symbols -- {final}')\n",
    "    return final, ID\n",
    "\n",
    "FUTs\n",
    "\n",
    "getInitMargin_ID(FUTs, 39, 0.1, True, 0, ['KC','CL'],['NQ'])"
   ]
  }
 ],
 "metadata": {
  "kernelspec": {
   "display_name": "Python 3",
   "language": "python",
   "name": "python3"
  },
  "language_info": {
   "codemirror_mode": {
    "name": "ipython",
    "version": 3
   },
   "file_extension": ".py",
   "mimetype": "text/x-python",
   "name": "python",
   "nbconvert_exporter": "python",
   "pygments_lexer": "ipython3",
   "version": "3.7.4"
  }
 },
 "nbformat": 4,
 "nbformat_minor": 4
}
